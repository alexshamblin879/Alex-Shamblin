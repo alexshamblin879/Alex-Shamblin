{
  "nbformat": 4,
  "nbformat_minor": 0,
  "metadata": {
    "colab": {
      "provenance": [],
      "authorship_tag": "ABX9TyNfrX1YZkU1X1+RXghe/3mW",
      "include_colab_link": true
    },
    "kernelspec": {
      "name": "python3",
      "display_name": "Python 3"
    },
    "language_info": {
      "name": "python"
    }
  },
  "cells": [
    {
      "cell_type": "markdown",
      "metadata": {
        "id": "view-in-github",
        "colab_type": "text"
      },
      "source": [
        "<a href=\"https://colab.research.google.com/github/alexshamblin879/Alex-Shamblin/blob/main/acme.ipynb\" target=\"_parent\"><img src=\"https://colab.research.google.com/assets/colab-badge.svg\" alt=\"Open In Colab\"/></a>"
      ]
    },
    {
      "cell_type": "code",
      "execution_count": 14,
      "metadata": {
        "colab": {
          "base_uri": "https://localhost:8080/"
        },
        "id": "_Ze6EGChJybz",
        "outputId": "e944fa74-3210-4aa4-d798-41274baa336c"
      },
      "outputs": [
        {
          "output_type": "stream",
          "name": "stdout",
          "text": [
            "Drive already mounted at /content/drive; to attempt to forcibly remount, call drive.mount(\"/content/drive\", force_remount=True).\n"
          ]
        }
      ],
      "source": [
        "from google.colab import drive\n",
        "drive.mount('/content/drive')"
      ]
    },
    {
      "cell_type": "code",
      "source": [
        "# Update with the correct path from Google Drive\n",
        "file_path = '/content/drive/My Drive/acme_report.py'  # Replace 'folder' with the actual folder name\n",
        "with open(file_path, 'r') as file:\n",
        "    code = file.read()\n",
        "    print(code)"
      ],
      "metadata": {
        "colab": {
          "base_uri": "https://localhost:8080/"
        },
        "id": "11HQ8xSGJ2Ig",
        "outputId": "e31c9f13-036c-496d-b262-d682434f5cf0"
      },
      "execution_count": 18,
      "outputs": [
        {
          "output_type": "stream",
          "name": "stdout",
          "text": [
            "import random\n",
            "from acme import Product\n",
            "\n",
            "ADJECTIVES = ['Awesome', 'Shiny', 'Impressive', 'Portable', 'Improved']\n",
            "NOUNS = ['Anvil', 'Catapult', 'Disguise', 'Mousetrap', '???']\n",
            "\n",
            "\n",
            "def generate_products(num_products=30):\n",
            "    \"\"\"Generate a list of products with random attributes.\"\"\"\n",
            "    products = []\n",
            "    for _ in range(num_products):\n",
            "        name = random.choice(ADJECTIVES) + ' ' + random.choice(NOUNS)\n",
            "        price = random.randint(5, 100)\n",
            "        weight = random.randint(5, 100)\n",
            "        flammability = random.uniform(0.0, 2.5)\n",
            "        product = Product(name, price, weight, flammability)\n",
            "        products.append(product)\n",
            "    return products\n",
            "\n",
            "\n",
            "def inventory_report(products):\n",
            "\n",
            "    unique_product_names = len(set([product.name\n",
            "                                    for product in products]))\n",
            "    avg_price = sum([product.price for product\n",
            "                     in products]) / len(products)\n",
            "    avg_weight = sum([product.weight for product\n",
            "                      in products]) / len(products)\n",
            "    avg_flammability = sum([product.flammability for\n",
            "                            product in products]) / len(products)\n",
            "    return (unique_product_names, avg_price,\n",
            "            avg_weight, avg_flammability)\n",
            "\n",
            "\n",
            "print(\"ACME CORPORATION OFFICIAL INVENTORY REPORT\")\n",
            "\n",
            "\n",
            "if __name__ == \"__main__\":\n",
            "    inventory_report(generate_products())\n",
            "\n"
          ]
        }
      ]
    },
    {
      "cell_type": "code",
      "source": [
        "# Update with the correct path from Google Drive\n",
        "file_path = '/content/drive/My Drive/acme_test.py'  # Replace 'folder' with the actual folder name\n",
        "with open(file_path, 'r') as file:\n",
        "    code = file.read()\n",
        "    print(code)"
      ],
      "metadata": {
        "colab": {
          "base_uri": "https://localhost:8080/"
        },
        "id": "gQSHJvt_MYiw",
        "outputId": "98e17d58-dcc5-4eb0-82eb-06ab8ff7e82b"
      },
      "execution_count": 19,
      "outputs": [
        {
          "output_type": "stream",
          "name": "stdout",
          "text": [
            "import unittest\n",
            "import random\n",
            "from acme import Product, generate_products, noun, adjs\n",
            "\n",
            "\n",
            "class Acme_Product_Tests(unittest.TestCase):\n",
            "    '''Making sure Acme products are the tops!'''\n",
            "\n",
            "    def test_default_product_price(self):\n",
            "        '''Test default product price being 10.'''\n",
            "        prod = Product('Test Product')\n",
            "        self.assertEqual(prod.price, 10)\n",
            "\n",
            "    def test_default_weight(self):\n",
            "        '''Test default product weight is 20'''\n",
            "        prod = Product('Test Weight')\n",
            "        self.assertEqual(prod.weight, 20)\n",
            "\n",
            "    def test_stealability(self):\n",
            "        '''test stealability'''\n",
            "        prod = Product('Golden Schoolbus', price=100)\n",
            "        self.assertEqual(prod.stealability(), 'Very stealable!')\n",
            "\n",
            "    def test_explosiveness(self):\n",
            "        '''Test the Boom!'''\n",
            "        prod = Product('C4', flammability=100.)\n",
            "        self.assertEqual(prod.explode(), '...BABOOM!!')\n",
            "\n",
            "\n",
            "class Acme_Report_Tests(unittest.TestCase):\n",
            "    '''`test_default_num_products` which checks that it really does receive\n",
            "    a list of length 30, and `test_legal_names` which checks that the\n",
            "    generated names for a default batch of products are all valid possible\n",
            "    names to generate (adjective, space, noun, from the lists of possible\n",
            "    words)'''\n",
            "\n",
            "    def test_default_num_products(self):\n",
            "        '''check that it really does receive a list of\n",
            "        length 30'''\n",
            "        Product = generate_products()\n",
            "        self.assertEqual(len(Product), 30)\n",
            "\n",
            "    def test_legal_names(self):\n",
            "        '''check that the generated names for a\n",
            "        default batch of products are all valid possible names to generate\n",
            "        (adjective, space, noun, from the lists of possible words)'''\n",
            "        Product = generate_products()\n",
            "        names = [x.name for x in Product]\n",
            "\n",
            "        for name in names:\n",
            "            self.assertEqual(len(name.split(' ')), 2)\n",
            "        for name in names:\n",
            "            named = name.split(' ')\n",
            "            ads = named[0]\n",
            "            nns = named[1]\n",
            "            self.assertIn(ads, adjs)\n",
            "            self.assertIn(nns, noun)\n",
            "\n",
            "\n",
            "if __name__ == '__main__':\n",
            "    unittest.main()\n",
            "\n"
          ]
        }
      ]
    },
    {
      "cell_type": "code",
      "source": [
        "# Update with the correct path from Google Drive\n",
        "file_path = '/content/drive/My Drive/acme.py'  # Replace 'folder' with the actual folder name\n",
        "with open(file_path, 'r') as file:\n",
        "    code = file.read()\n",
        "    print(code)"
      ],
      "metadata": {
        "colab": {
          "base_uri": "https://localhost:8080/"
        },
        "id": "wsfMFr3fMdCW",
        "outputId": "f8cced36-46c1-443f-e72c-342f92c3dc4c"
      },
      "execution_count": 20,
      "outputs": [
        {
          "output_type": "stream",
          "name": "stdout",
          "text": [
            "import random\n",
            "from random import randint\n",
            "\n",
            "\n",
            "class Product:\n",
            "\n",
            "    def __init__(self, name, price=10, weight=20, flammability=0.5):\n",
            "        self.name = name\n",
            "        self.price = price\n",
            "        self.weight = weight\n",
            "        self.flammability = flammability\n",
            "        self.identifier = random.randint(1000000, 9999999)\n",
            "\n",
            "    def stealability(self):\n",
            "        ratio = self.price / self.weight\n",
            "        if ratio < 0.5:\n",
            "            return \"Not so stealable...\"\n",
            "        elif ratio >= 0.5 and ratio < 1.0:\n",
            "            return \"Kinda stealable.\"\n",
            "        else:\n",
            "            return \"Very stealable!\"\n",
            "\n",
            "    def explode(self):\n",
            "        product = self.flammability * self.weight\n",
            "        if product < 10:\n",
            "            return \"...fizzle.\"\n",
            "        elif product >= 10 and product < 50:\n",
            "            return \"...boom!\"\n",
            "        else:\n",
            "            return \"...BABOOM!!\"\n",
            "\n",
            "\n",
            "class BoxingGlove(Product):\n",
            "\n",
            "    def __init__(self, name, price=10, weight=10, flammability=0.5):\n",
            "        super().__init__(name, price, weight, flammability)\n",
            "        self.name = name\n",
            "        self.price = price\n",
            "        self.weight = weight\n",
            "        self.flammability = flammability\n",
            "        self.identifier = randint(1000000, 9999999)\n",
            "\n",
            "    def explode(self):\n",
            "        return \"...it's a glove.\"\n",
            "\n",
            "    def punch(self):\n",
            "        if self.weight < 5:\n",
            "            return \"That tickles.\"\n",
            "        elif self.weight >= 5 and self.weight < 15:\n",
            "            return \"Hey that hurt!\"\n",
            "        else:\n",
            "            return \"OUCH!\"\n",
            "\n"
          ]
        }
      ]
    }
  ]
}