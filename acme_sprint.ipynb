{
  "nbformat": 4,
  "nbformat_minor": 0,
  "metadata": {
    "colab": {
      "provenance": [],
      "authorship_tag": "ABX9TyN1Fa0O1Vi+aH4eSA44YyGA",
      "include_colab_link": true
    },
    "kernelspec": {
      "name": "python3",
      "display_name": "Python 3"
    },
    "language_info": {
      "name": "python"
    }
  },
  "cells": [
    {
      "cell_type": "markdown",
      "metadata": {
        "id": "view-in-github",
        "colab_type": "text"
      },
      "source": [
        "<a href=\"https://colab.research.google.com/github/alexshamblin879/Alex-Shamblin/blob/main/acme_sprint.ipynb\" target=\"_parent\"><img src=\"https://colab.research.google.com/assets/colab-badge.svg\" alt=\"Open In Colab\"/></a>"
      ]
    },
    {
      "cell_type": "markdown",
      "source": [
        "## Acme.py"
      ],
      "metadata": {
        "id": "1bvcN6YjAi7-"
      }
    },
    {
      "cell_type": "code",
      "execution_count": null,
      "metadata": {
        "id": "1P9jLn3xAbb3"
      },
      "outputs": [],
      "source": [
        "import random\n",
        "from random import randint\n",
        "\n",
        "\n",
        "class Product:\n",
        "\n",
        "    def __init__(self, name, price=10, weight=20, flammability=0.5):\n",
        "        self.name = name\n",
        "        self.price = price\n",
        "        self.weight = weight\n",
        "        self.flammability = flammability\n",
        "        self.identifier = random.randint(1000000, 9999999)\n",
        "\n",
        "    def stealability(self):\n",
        "        ratio = self.price / self.weight\n",
        "        if ratio < 0.5:\n",
        "            return \"Not so stealable...\"\n",
        "        elif ratio >= 0.5 and ratio < 1.0:\n",
        "            return \"Kinda stealable.\"\n",
        "        else:\n",
        "            return \"Very stealable!\"\n",
        "\n",
        "    def explode(self):\n",
        "        product = self.flammability * self.weight\n",
        "        if product < 10:\n",
        "            return \"...fizzle.\"\n",
        "        elif product >= 10 and product < 50:\n",
        "            return \"...boom!\"\n",
        "        else:\n",
        "            return \"...BABOOM!!\"\n",
        "\n",
        "\n",
        "class BoxingGlove(Product):\n",
        "\n",
        "    def __init__(self, name, price=10, weight=10, flammability=0.5):\n",
        "        super().__init__(name, price, weight, flammability)\n",
        "        self.name = name\n",
        "        self.price = price\n",
        "        self.weight = weight\n",
        "        self.flammability = flammability\n",
        "        self.identifier = randint(1000000, 9999999)\n",
        "\n",
        "    def explode(self):\n",
        "        return \"...it's a glove.\"\n",
        "\n",
        "    def punch(self):\n",
        "        if self.weight < 5:\n",
        "            return \"That tickles.\"\n",
        "        elif self.weight >= 5 and self.weight < 15:\n",
        "            return \"Hey that hurt!\"\n",
        "        else:\n",
        "            return \"OUCH!\""
      ]
    },
    {
      "cell_type": "markdown",
      "source": [
        "## acme_report.**py**"
      ],
      "metadata": {
        "id": "vRSyvxr_Ap3I"
      }
    },
    {
      "cell_type": "code",
      "source": [
        "import random\n",
        "!pip install acme\n",
        "\n",
        "ADJECTIVES = ['Awesome', 'Shiny', 'Impressive', 'Portable', 'Improved']\n",
        "NOUNS = ['Anvil', 'Catapult', 'Disguise', 'Mousetrap', '???']\n",
        "\n",
        "\n",
        "def generate_products(num_products=30):\n",
        "    \"\"\"Generate a list of products with random attributes.\"\"\"\n",
        "    products = []\n",
        "    for _ in range(num_products):\n",
        "        name = random.choice(ADJECTIVES) + ' ' + random.choice(NOUNS)\n",
        "        price = random.randint(5, 100)\n",
        "        weight = random.randint(5, 100)\n",
        "        flammability = random.uniform(0.0, 2.5)\n",
        "        product = Product(name, price, weight, flammability)\n",
        "        products.append(product)\n",
        "    return products\n",
        "\n",
        "\n",
        "def inventory_report(products):\n",
        "\n",
        "    unique_product_names = len(set([product.name\n",
        "                                    for product in products]))\n",
        "    avg_price = sum([product.price for product\n",
        "                     in products]) / len(products)\n",
        "    avg_weight = sum([product.weight for product\n",
        "                      in products]) / len(products)\n",
        "    avg_flammability = sum([product.flammability for\n",
        "                            product in products]) / len(products)\n",
        "    return (unique_product_names, avg_price,\n",
        "            avg_weight, avg_flammability)\n",
        "\n",
        "\n",
        "print(\"ACME CORPORATION OFFICIAL INVENTORY REPORT\")\n",
        "\n",
        "\n",
        "if __name__ == \"__main__\":\n",
        "    inventory_report(generate_products())"
      ],
      "metadata": {
        "colab": {
          "base_uri": "https://localhost:8080/"
        },
        "id": "cdz4G-XCAvVG",
        "outputId": "4a25b764-a52e-43c7-afbb-5e54118bad2c"
      },
      "execution_count": null,
      "outputs": [
        {
          "output_type": "stream",
          "name": "stdout",
          "text": [
            "Requirement already satisfied: acme in /usr/local/lib/python3.10/dist-packages (3.1.0)\n",
            "Requirement already satisfied: cryptography>=3.2.1 in /usr/local/lib/python3.10/dist-packages (from acme) (43.0.3)\n",
            "Requirement already satisfied: josepy<2,>=1.13.0 in /usr/local/lib/python3.10/dist-packages (from acme) (1.14.0)\n",
            "Requirement already satisfied: PyOpenSSL!=23.1.0,>=17.5.0 in /usr/local/lib/python3.10/dist-packages (from acme) (24.2.1)\n",
            "Requirement already satisfied: pyrfc3339 in /usr/local/lib/python3.10/dist-packages (from acme) (2.0.1)\n",
            "Requirement already satisfied: pytz>=2019.3 in /usr/local/lib/python3.10/dist-packages (from acme) (2024.2)\n",
            "Requirement already satisfied: requests>=2.20.0 in /usr/local/lib/python3.10/dist-packages (from acme) (2.32.3)\n",
            "Requirement already satisfied: cffi>=1.12 in /usr/local/lib/python3.10/dist-packages (from cryptography>=3.2.1->acme) (1.17.1)\n",
            "Requirement already satisfied: charset-normalizer<4,>=2 in /usr/local/lib/python3.10/dist-packages (from requests>=2.20.0->acme) (3.4.1)\n",
            "Requirement already satisfied: idna<4,>=2.5 in /usr/local/lib/python3.10/dist-packages (from requests>=2.20.0->acme) (3.10)\n",
            "Requirement already satisfied: urllib3<3,>=1.21.1 in /usr/local/lib/python3.10/dist-packages (from requests>=2.20.0->acme) (2.3.0)\n",
            "Requirement already satisfied: certifi>=2017.4.17 in /usr/local/lib/python3.10/dist-packages (from requests>=2.20.0->acme) (2024.12.14)\n",
            "Requirement already satisfied: pycparser in /usr/local/lib/python3.10/dist-packages (from cffi>=1.12->cryptography>=3.2.1->acme) (2.22)\n",
            "ACME CORPORATION OFFICIAL INVENTORY REPORT\n"
          ]
        }
      ]
    },
    {
      "cell_type": "markdown",
      "source": [
        "## acme_test.py"
      ],
      "metadata": {
        "id": "L5mBUMFjBSji"
      }
    },
    {
      "cell_type": "code",
      "source": [
        "import unittest\n",
        "import random\n",
        "\n",
        "class Acme_Product_Tests(unittest.TestCase):\n",
        "    '''Making sure Acme products are the tops!'''\n",
        "\n",
        "    def test_default_product_price(self):\n",
        "        '''Test default product price being 10.'''\n",
        "        prod = Product('Test Product')\n",
        "        self.assertEqual(prod.price, 10)\n",
        "\n",
        "    def test_default_weight(self):\n",
        "        '''Test default product weight is 20'''\n",
        "        prod = Product('Test Weight')\n",
        "        self.assertEqual(prod.weight, 20)\n",
        "\n",
        "    def test_stealability(self):\n",
        "        '''test stealability'''\n",
        "        prod = Product('Golden Schoolbus', price=100)\n",
        "        self.assertEqual(prod.stealability(), 'Very stealable!')\n",
        "\n",
        "    def test_explosiveness(self):\n",
        "        '''Test the Boom!'''\n",
        "        prod = Product('C4', flammability=100.)\n",
        "        self.assertEqual(prod.explode(), '...BABOOM!!')\n",
        "\n",
        "\n",
        "class Acme_Report_Tests(unittest.TestCase):\n",
        "    '''`test_default_num_products` which checks that it really does receive\n",
        "    a list of length 30, and `test_legal_names` which checks that the\n",
        "    generated names for a default batch of products are all valid possible\n",
        "    names to generate (adjective, space, noun, from the lists of possible\n",
        "    words)'''\n",
        "\n",
        "    def test_default_num_products(self):\n",
        "        '''check that it really does receive a list of\n",
        "        length 30'''\n",
        "        Product = generate_products()\n",
        "        self.assertEqual(len(Product), 30)\n",
        "\n",
        "    def test_legal_names(self):\n",
        "        '''check that the generated names for a\n",
        "        default batch of products are all valid possible names to generate\n",
        "        (adjective, space, noun, from the lists of possible words)'''\n",
        "        Product = generate_products()\n",
        "        names = [x.name for x in Product]\n",
        "\n",
        "        for name in names:\n",
        "            self.assertEqual(len(name.split(' ')), 2)\n",
        "        for name in names:\n",
        "            named = name.split(' ')\n",
        "            ads = named[0]\n",
        "            nns = named[1]\n",
        "            self.assertIn(ads, ADJECTIVES)\n",
        "            self.assertIn(nns, NOUNS)\n",
        "\n",
        "\n",
        "if __name__ == '__main__':\n",
        "    unittest.main()"
      ],
      "metadata": {
        "colab": {
          "base_uri": "https://localhost:8080/",
          "height": 317
        },
        "id": "rGm9i7fnBXZ9",
        "outputId": "d01e4b21-c8ba-4b0a-b31a-6e495f23c00a"
      },
      "execution_count": null,
      "outputs": [
        {
          "output_type": "stream",
          "name": "stderr",
          "text": [
            "E\n",
            "======================================================================\n",
            "ERROR: /root/ (unittest.loader._FailedTest)\n",
            "----------------------------------------------------------------------\n",
            "AttributeError: module '__main__' has no attribute '/root/'\n",
            "\n",
            "----------------------------------------------------------------------\n",
            "Ran 1 test in 0.005s\n",
            "\n",
            "FAILED (errors=1)\n"
          ]
        },
        {
          "output_type": "error",
          "ename": "SystemExit",
          "evalue": "True",
          "traceback": [
            "An exception has occurred, use %tb to see the full traceback.\n",
            "\u001b[0;31mSystemExit\u001b[0m\u001b[0;31m:\u001b[0m True\n"
          ]
        },
        {
          "output_type": "stream",
          "name": "stderr",
          "text": [
            "/usr/local/lib/python3.10/dist-packages/IPython/core/interactiveshell.py:3561: UserWarning: To exit: use 'exit', 'quit', or Ctrl-D.\n",
            "  warn(\"To exit: use 'exit', 'quit', or Ctrl-D.\", stacklevel=1)\n"
          ]
        }
      ]
    }
  ]
}